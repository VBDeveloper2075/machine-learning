{
 "cells": [
  {
   "cell_type": "markdown",
   "id": "f424e837",
   "metadata": {},
   "source": [
    "# Excepciones"
   ]
  },
  {
   "cell_type": "markdown",
   "id": "88b349f8",
   "metadata": {},
   "source": [
    "Las excepciones son bloques de código que nos permiten poder continuar con la ejecución de un programa aunque ocurra un error. ara prevenir el posible fallo debemos poner el código que puede fallar dentro de un bloque try y luego encadenar otro bloque except para tratar la situación excepcional y procesarla."
   ]
  },
  {
   "cell_type": "code",
   "execution_count": 1,
   "id": "61b6fbeb",
   "metadata": {},
   "outputs": [
    {
     "name": "stdout",
     "output_type": "stream",
     "text": [
      "17\n"
     ]
    }
   ],
   "source": [
    "#Ejemplo 1\n",
    "a = 7\n",
    "b = 10\n",
    "try:\n",
    "   print(a + b)\n",
    "except:\n",
    "   print(\"Ha ocurrido un error al sumar.\")"
   ]
  },
  {
   "cell_type": "code",
   "execution_count": 2,
   "id": "b9320d60",
   "metadata": {},
   "outputs": [
    {
     "name": "stdout",
     "output_type": "stream",
     "text": [
      "Ha ocurrido un error al sumar.\n"
     ]
    }
   ],
   "source": [
    "#Ejemplo 2\n",
    "a = 7\n",
    "b = \"texto\"\n",
    "try:\n",
    "   print(a + b)\n",
    "except:\n",
    "   print(\"Ha ocurrido un error al sumar.\")"
   ]
  },
  {
   "cell_type": "markdown",
   "id": "86bdd59e",
   "metadata": {},
   "source": [
    "Entonces en definitiva.... \n",
    "\n",
    "**Try - Except nos permite controlar situaciones excepcionales que generalmente darían error y en su lugar permite mostrar un mensaje o ejecutar una pieza de código alternativo.**\n"
   ]
  }
 ],
 "metadata": {
  "kernelspec": {
   "display_name": "Python 3",
   "language": "python",
   "name": "python3"
  },
  "language_info": {
   "codemirror_mode": {
    "name": "ipython",
    "version": 3
   },
   "file_extension": ".py",
   "mimetype": "text/x-python",
   "name": "python",
   "nbconvert_exporter": "python",
   "pygments_lexer": "ipython3",
   "version": "3.8.8"
  },
  "varInspector": {
   "cols": {
    "lenName": 16,
    "lenType": 16,
    "lenVar": 40
   },
   "kernels_config": {
    "python": {
     "delete_cmd_postfix": "",
     "delete_cmd_prefix": "del ",
     "library": "var_list.py",
     "varRefreshCmd": "print(var_dic_list())"
    },
    "r": {
     "delete_cmd_postfix": ") ",
     "delete_cmd_prefix": "rm(",
     "library": "var_list.r",
     "varRefreshCmd": "cat(var_dic_list()) "
    }
   },
   "types_to_exclude": [
    "module",
    "function",
    "builtin_function_or_method",
    "instance",
    "_Feature"
   ],
   "window_display": false
  }
 },
 "nbformat": 4,
 "nbformat_minor": 5
}
