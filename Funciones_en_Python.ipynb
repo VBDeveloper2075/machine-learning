{
  "cells": [
    {
      "cell_type": "markdown",
      "metadata": {
        "id": "zs9b13zr-9WV"
      },
      "source": [
        "# Funciones"
      ]
    },
    {
      "cell_type": "markdown",
      "metadata": {
        "id": "6wJ7G_A6BCWr"
      },
      "source": [
        "Una función es un mini programa dentro de un programa. Las funciones contienen varias sentencias bajo un solo nombre y constituyen una forma de dividir un proyecto grande en módulos pequeños. \n",
        "\n",
        "Las funciones existen de modo autónomo con respecto al programa principal, cada una tiene su ámbito, sus variables locales. La división del código en funciones hace que las mismas se puedan reutilizar en su programa y en otros programas. Por lo tanto, podemos decir que una función es un subprograma que se llama dentro de un programa principal. "
      ]
    },
    {
      "cell_type": "markdown",
      "metadata": {
        "id": "UfBuGire_MtF"
      },
      "source": [
        "```\n",
        "def funcion (parametros):\n",
        "    bloque de codigo\n",
        "```"
      ]
    },
    {
      "cell_type": "markdown",
      "metadata": {
        "id": "QSTbomPoSOhu"
      },
      "source": [
        "## Ejemplo:\n",
        "\n",
        "Escribir una función que nro es mayor"
      ]
    },
    {
      "cell_type": "code",
      "execution_count": 1,
      "metadata": {
        "id": "ZEPjaNtjUG63"
      },
      "outputs": [],
      "source": [
        "def mayor (a , b):\n",
        "    if a > b:\n",
        "        print ('el mayor es ', a)\n",
        "    else:\n",
        "        print ('el mayor es ', b)"
      ]
    },
    {
      "cell_type": "code",
      "execution_count": 2,
      "metadata": {
        "colab": {
          "base_uri": "https://localhost:8080/"
        },
        "id": "6skUYucie5_R",
        "outputId": "5044afa4-6b73-490c-b1af-ad020673e578"
      },
      "outputs": [
        {
          "output_type": "stream",
          "name": "stdout",
          "text": [
            "el mayor es  10\n"
          ]
        }
      ],
      "source": [
        "#Programa principal\n",
        "x = 10\n",
        "y = 5\n",
        "mayor (x , y)"
      ]
    },
    {
      "cell_type": "markdown",
      "metadata": {
        "id": "vptAaTUopv_a"
      },
      "source": [
        "## Parámetros de una función"
      ]
    },
    {
      "cell_type": "code",
      "execution_count": null,
      "metadata": {
        "id": "Me877ul-pydd"
      },
      "outputs": [],
      "source": [
        "def potenciacion(base, exponente):\n",
        "    return base ** exponente"
      ]
    },
    {
      "cell_type": "code",
      "execution_count": null,
      "metadata": {
        "colab": {
          "base_uri": "https://localhost:8080/",
          "height": 34
        },
        "id": "_QQoGQ5kM20F",
        "outputId": "6b575f0e-029b-4e5d-e6fb-690fd8acf751"
      },
      "outputs": [
        {
          "data": {
            "text/plain": [
              "32"
            ]
          },
          "execution_count": 33,
          "metadata": {},
          "output_type": "execute_result"
        }
      ],
      "source": [
        "potenciacion(2, 5)"
      ]
    },
    {
      "cell_type": "code",
      "execution_count": null,
      "metadata": {
        "colab": {
          "base_uri": "https://localhost:8080/",
          "height": 34
        },
        "id": "JcEQeVdQM2xN",
        "outputId": "61e9e0e4-ee3f-420e-f5cb-0cd4ec87d0e5"
      },
      "outputs": [
        {
          "data": {
            "text/plain": [
              "25"
            ]
          },
          "execution_count": 34,
          "metadata": {},
          "output_type": "execute_result"
        }
      ],
      "source": [
        "potenciacion(5, 2)"
      ]
    },
    {
      "cell_type": "code",
      "execution_count": null,
      "metadata": {
        "colab": {
          "base_uri": "https://localhost:8080/",
          "height": 34
        },
        "id": "tR57KsoLM2nj",
        "outputId": "e9c24aa1-8534-4270-f444-bb12d8b2645b"
      },
      "outputs": [
        {
          "data": {
            "text/plain": [
              "243"
            ]
          },
          "execution_count": 35,
          "metadata": {},
          "output_type": "execute_result"
        }
      ],
      "source": [
        "potenciacion(base = 3, exponente = 5)"
      ]
    },
    {
      "cell_type": "code",
      "execution_count": null,
      "metadata": {
        "colab": {
          "base_uri": "https://localhost:8080/",
          "height": 34
        },
        "id": "aJG_OJ6QM2Zl",
        "outputId": "864f78b3-20b7-466e-da0b-65afab5671bd"
      },
      "outputs": [
        {
          "data": {
            "text/plain": [
              "243"
            ]
          },
          "execution_count": 36,
          "metadata": {},
          "output_type": "execute_result"
        }
      ],
      "source": [
        "potenciacion(exponente = 5, base = 3)"
      ]
    },
    {
      "cell_type": "markdown",
      "metadata": {
        "id": "PPLAmdB0c2tB"
      },
      "source": [
        "## Parámetros con valores por defecto"
      ]
    },
    {
      "cell_type": "code",
      "execution_count": null,
      "metadata": {
        "id": "GN5R2dsBc2js"
      },
      "outputs": [],
      "source": [
        "def potenciacion(base, exponente = 2):\n",
        "    return base ** exponente"
      ]
    },
    {
      "cell_type": "code",
      "execution_count": null,
      "metadata": {
        "colab": {
          "base_uri": "https://localhost:8080/",
          "height": 34
        },
        "id": "WrI6GMibpN9n",
        "outputId": "ad3c5abb-0909-4e3d-ab22-7eda7d8047de"
      },
      "outputs": [
        {
          "data": {
            "text/plain": [
              "125"
            ]
          },
          "execution_count": 38,
          "metadata": {},
          "output_type": "execute_result"
        }
      ],
      "source": [
        "potenciacion(5, 3)"
      ]
    },
    {
      "cell_type": "code",
      "execution_count": null,
      "metadata": {
        "colab": {
          "base_uri": "https://localhost:8080/",
          "height": 34
        },
        "id": "NQ-qxKEzpNxZ",
        "outputId": "bc4843f4-d868-4bbc-ff16-436714649cfc"
      },
      "outputs": [
        {
          "data": {
            "text/plain": [
              "25"
            ]
          },
          "execution_count": 39,
          "metadata": {},
          "output_type": "execute_result"
        }
      ],
      "source": [
        "potenciacion(5)"
      ]
    },
    {
      "cell_type": "markdown",
      "metadata": {
        "id": "2ImNi9Mz_NRQ"
      },
      "source": [
        "## Funciones lambda"
      ]
    },
    {
      "cell_type": "code",
      "execution_count": null,
      "metadata": {
        "id": "vXTrO7vWYkEd"
      },
      "outputs": [],
      "source": [
        "def potenciacion(base, exponente):\n",
        "    return base ** exponente"
      ]
    },
    {
      "cell_type": "code",
      "execution_count": null,
      "metadata": {
        "id": "EJcUgmeTYj7y"
      },
      "outputs": [],
      "source": [
        "potenciacion_lambda = lambda base, exponente: base ** exponente"
      ]
    },
    {
      "cell_type": "code",
      "execution_count": null,
      "metadata": {
        "colab": {
          "base_uri": "https://localhost:8080/",
          "height": 34
        },
        "id": "5TRlIZ4IYj5t",
        "outputId": "f48e7f87-af80-41a9-c0f7-f448a811d55d"
      },
      "outputs": [
        {
          "data": {
            "text/plain": [
              "81"
            ]
          },
          "execution_count": 42,
          "metadata": {},
          "output_type": "execute_result"
        }
      ],
      "source": [
        "potenciacion_lambda(3, 4)"
      ]
    },
    {
      "cell_type": "markdown",
      "metadata": {
        "id": "ofuwaMP3eOZk"
      },
      "source": [
        "## Comentarios en funciones"
      ]
    },
    {
      "cell_type": "code",
      "execution_count": null,
      "metadata": {
        "id": "sbCCOw8beOVz"
      },
      "outputs": [],
      "source": [
        "def potenciacion(base, exponente):\n",
        "    \"\"\"\n",
        "    funcion que calcula la potenciacion de una base a un exponente\n",
        "\n",
        "    params:\n",
        "\n",
        "    base: int\n",
        "    exponente: int\n",
        "    \"\"\"\n",
        "\n",
        "    return base ** exponente"
      ]
    },
    {
      "cell_type": "code",
      "execution_count": null,
      "metadata": {
        "colab": {
          "base_uri": "https://localhost:8080/",
          "height": 34
        },
        "id": "8xSwYrn3eOLN",
        "outputId": "3b074e3d-0827-4ed1-fc28-d6b0fb3d6d91"
      },
      "outputs": [
        {
          "data": {
            "text/plain": [
              "243"
            ]
          },
          "execution_count": 44,
          "metadata": {},
          "output_type": "execute_result"
        }
      ],
      "source": [
        "potenciacion(3, 5)"
      ]
    }
  ],
  "metadata": {
    "colab": {
      "collapsed_sections": [],
      "provenance": []
    },
    "kernelspec": {
      "display_name": "Python 3.10.5 64-bit",
      "language": "python",
      "name": "python3"
    },
    "language_info": {
      "codemirror_mode": {
        "name": "ipython",
        "version": 3
      },
      "file_extension": ".py",
      "mimetype": "text/x-python",
      "name": "python",
      "nbconvert_exporter": "python",
      "pygments_lexer": "ipython3",
      "version": "3.10.5"
    },
    "vscode": {
      "interpreter": {
        "hash": "32ab7d40ce39d7e399027ecb36613b65f13ca0e634330a825e1faf0a7c086ac2"
      }
    }
  },
  "nbformat": 4,
  "nbformat_minor": 0
}