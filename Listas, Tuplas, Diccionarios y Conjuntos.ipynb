{
 "cells": [
  {
   "cell_type": "markdown",
   "id": "debaf2c4",
   "metadata": {},
   "source": [
    "¿Qué son las listas?\n",
    "\n",
    "Una lista es una estructura de datos en la que puedes añadir elementos para su posterior uso. Como en otros lenguajes de programación, las listas permiten guardar cualquier tipo de dato, ya sea enteros, cadenas, objetos e incluso otras listas.\n",
    "\n",
    "Inicializar una lista\n",
    "Para declarar una lista vacía se puede hacer con list() o con []."
   ]
  },
  {
   "cell_type": "code",
   "execution_count": 1,
   "id": "ffe04690",
   "metadata": {},
   "outputs": [],
   "source": [
    "my_list = list()\n",
    "my_list = []"
   ]
  },
  {
   "cell_type": "markdown",
   "id": "2d75a783",
   "metadata": {},
   "source": [
    "También podemos crear una lista con información predefinida:"
   ]
  },
  {
   "cell_type": "code",
   "execution_count": 3,
   "id": "836e5c26",
   "metadata": {},
   "outputs": [],
   "source": [
    "my_list = list([7,6,3,4])\n",
    "my_list2 = ['a', 'x', 'd']"
   ]
  },
  {
   "cell_type": "markdown",
   "id": "b83e56d0",
   "metadata": {},
   "source": [
    "Para obtener el valor de una posición en concreto deberemos escribir el nombre de la lista, abrir corchetes, poner el número de la posición donde se encuentra el dato que queremos obtener y cerrar corchete. Para obtener el primer elemento la posición sería la número 0, para el segundo valor la posición número 1 y así sucesivamente."
   ]
  },
  {
   "cell_type": "code",
   "execution_count": 4,
   "id": "3a95ff94",
   "metadata": {},
   "outputs": [
    {
     "name": "stdout",
     "output_type": "stream",
     "text": [
      "7\n",
      "6\n"
     ]
    }
   ],
   "source": [
    "my_list = list([7,6,3,4])\n",
    "\n",
    "# Mostrará el primer valor de la lista que es 7\n",
    "print(my_list[0])\n",
    "\n",
    "# Mostrará el segundo valor de la lista que es 6\n",
    "print(my_list[1])"
   ]
  },
  {
   "cell_type": "markdown",
   "id": "2c1c698b",
   "metadata": {},
   "source": [
    "En el caso de querer recorrer todos los valores de una lista podemos hacerlo con el bucle for."
   ]
  },
  {
   "cell_type": "code",
   "execution_count": 5,
   "id": "06426d5d",
   "metadata": {},
   "outputs": [
    {
     "name": "stdout",
     "output_type": "stream",
     "text": [
      "7\n",
      "5\n",
      "9\n",
      "2\n",
      "3\n",
      "4\n"
     ]
    }
   ],
   "source": [
    "my_list = [7, 5, 9, 2, 3, 4]\n",
    "\n",
    "for value in my_list:\n",
    "    print(value)"
   ]
  },
  {
   "cell_type": "markdown",
   "id": "8c0c9361",
   "metadata": {},
   "source": [
    "**Operaciones disponibles para la manipulación de listas**\n",
    "\n",
    "Si quieres añadir un elemento a la última posición de la lista lo haríamos con el método append."
   ]
  },
  {
   "cell_type": "code",
   "execution_count": 6,
   "id": "1bdfaf9a",
   "metadata": {},
   "outputs": [],
   "source": [
    "my_list.append('hello')\n",
    "# Después de esto el contenido de la lista será [7, 6, 3, 4, 'hello']"
   ]
  },
  {
   "cell_type": "markdown",
   "id": "8c38a1b3",
   "metadata": {},
   "source": [
    "En caso de que queramos añadir un elemento en una posición en concreto usaremos el método insert donde el primer parámetro será la posición y el segundo el dato a insertar."
   ]
  },
  {
   "cell_type": "code",
   "execution_count": 7,
   "id": "7f223693",
   "metadata": {},
   "outputs": [
    {
     "name": "stdout",
     "output_type": "stream",
     "text": [
      "[7, 6, 3, 'test', 4, 5]\n"
     ]
    }
   ],
   "source": [
    "my_list = list([7,6,3,4,5])\n",
    "my_list.insert(3, 'test')\n",
    "print(my_list)\n",
    "# Ahora el valor de la lista es [7, 6, 3, 'test', 4, 5]"
   ]
  },
  {
   "cell_type": "markdown",
   "id": "0431e106",
   "metadata": {},
   "source": [
    "Al hacer esto, el valor que estaba en esa posición y los siguientes se desplazarán una posición.\n",
    "\n",
    "Cuando queramos sustituir el valor de una posición en concreto deberemos escribir el nombre de la lista, abrir corchetes y añadir la posición del dato que queremos reemplazar, cerramos corchetes, escribimos igual y ya añadimos el valor que le queramos dar."
   ]
  },
  {
   "cell_type": "code",
   "execution_count": 8,
   "id": "ee86ba8d",
   "metadata": {},
   "outputs": [
    {
     "name": "stdout",
     "output_type": "stream",
     "text": [
      "[7, 4, 3, 4, 5]\n"
     ]
    }
   ],
   "source": [
    "my_list = list([7,6,3,4,5])\n",
    "\n",
    "my_list[1] = 4\n",
    "\n",
    "print(my_list)\n",
    "# Ahora el valor de la lista es [7, 4, 3, 4, 5]"
   ]
  },
  {
   "cell_type": "markdown",
   "id": "27cd4f90",
   "metadata": {},
   "source": [
    "En este caso hemos sustituido el valor 6 que estaba en la posición uno de la lista por 4.\n",
    "\n",
    "Si queremos eliminar un elemento que conozcamos su valor usaremos remove, en el caso de que esté repetido el valor pasado por parámetro, solo borraría el primer ítem que encontrase:"
   ]
  },
  {
   "cell_type": "code",
   "execution_count": 9,
   "id": "bc24aae2",
   "metadata": {},
   "outputs": [
    {
     "name": "stdout",
     "output_type": "stream",
     "text": [
      "[7, 3, 4, 5]\n"
     ]
    }
   ],
   "source": [
    "my_list = [7, 4, 3, 4, 5]\n",
    "\n",
    "my_list.remove(4)\n",
    "\n",
    "print(my_list)\n",
    "# Print: [7, 3, 4, 5]"
   ]
  },
  {
   "cell_type": "markdown",
   "id": "10945f90",
   "metadata": {},
   "source": [
    "Al ejecutar este código solo elimina el primer valor igual a 4, el segundo y si hubiera más se mantendrían.\n",
    "\n",
    "En el caso de que lo queramos hacer por clave usaremos su posición en la lista con el método pop, si no pasamos un parámetro, eliminará el valor guardado en la última posición:"
   ]
  },
  {
   "cell_type": "code",
   "execution_count": 10,
   "id": "511c7399",
   "metadata": {},
   "outputs": [
    {
     "name": "stdout",
     "output_type": "stream",
     "text": [
      "['z', 'x', 'r', 'b']\n",
      "['z', 'x', 'r']\n"
     ]
    }
   ],
   "source": [
    "my_list = ['z', 'x', 'm', 'r', 'b']\n",
    "\n",
    "my_list.pop(2)\n",
    "\n",
    "print(my_list)\n",
    "# Print: ['z', 'x', 'r', 'b']\n",
    "my_list.pop()\n",
    "\n",
    "print(my_list)\n",
    "# Print: ['z', 'x', 'r']"
   ]
  },
  {
   "cell_type": "markdown",
   "id": "6922f03b",
   "metadata": {},
   "source": [
    "Para unir listas podemos usar el operador + como se ve en el siguiente ejemplo, esto nos devolverá una nueva lista con los elementos de las otras dos listas."
   ]
  },
  {
   "cell_type": "code",
   "execution_count": 11,
   "id": "77f9667f",
   "metadata": {},
   "outputs": [
    {
     "name": "stdout",
     "output_type": "stream",
     "text": [
      "['x', 'm', 'c', 'r']\n"
     ]
    }
   ],
   "source": [
    "my_list = ['x']\n",
    "my_list2 = ['m', 'c', 'r']\n",
    "my_list3 = my_list + my_list2\n",
    "print(my_list3)\n",
    "# Print: ['x', 'm', 'c', 'r']"
   ]
  },
  {
   "cell_type": "markdown",
   "id": "71a9189e",
   "metadata": {},
   "source": [
    "Para repetir los elementos de una lista usaremos el operador * sobre la lista en la que queramos multiplicar sus valores."
   ]
  },
  {
   "cell_type": "code",
   "execution_count": 12,
   "id": "5d9599d1",
   "metadata": {},
   "outputs": [
    {
     "name": "stdout",
     "output_type": "stream",
     "text": [
      "['a', 'a', 'a', 'a', 'a']\n"
     ]
    }
   ],
   "source": [
    "my_list = ['a']\n",
    "my_list_x_5 = my_list * 5\n",
    "print(my_list_x_5)\n",
    "# Print: ['a','a','a','a','a']"
   ]
  },
  {
   "cell_type": "markdown",
   "id": "768aac5d",
   "metadata": {},
   "source": [
    "Si queremos invertir el orden de una lista lo haremos como en el siguiente ejemplo."
   ]
  },
  {
   "cell_type": "code",
   "execution_count": 13,
   "id": "2376bdd9",
   "metadata": {},
   "outputs": [
    {
     "name": "stdout",
     "output_type": "stream",
     "text": [
      "[5, 4, 3, 2, 1]\n"
     ]
    }
   ],
   "source": [
    "my_list = [1, 2, 3, 4, 5]\n",
    "my_list_reversed = my_list[::-1]\n",
    "print(my_list_reversed)\n",
    "# Print: [5, 4, 3, 2, 1]"
   ]
  },
  {
   "cell_type": "markdown",
   "id": "d6c42cfd",
   "metadata": {},
   "source": [
    "En el caso de que queramos ordenar la lista utilizaremos el método sort, que ordenará nuestra lista de forma ascendente."
   ]
  },
  {
   "cell_type": "code",
   "execution_count": 14,
   "id": "e9adc6a3",
   "metadata": {},
   "outputs": [
    {
     "name": "stdout",
     "output_type": "stream",
     "text": [
      "[1, 2, 3, 4, 5]\n"
     ]
    }
   ],
   "source": [
    "my_list = [2,1,5,4,3]\n",
    "my_list.sort()\n",
    "print(my_list)\n",
    "# Print: [1,2,3,4,5]"
   ]
  },
  {
   "cell_type": "markdown",
   "id": "45910318",
   "metadata": {},
   "source": [
    "Si queremos vaciar una lista, podemos utilizar el método clear()."
   ]
  },
  {
   "cell_type": "code",
   "execution_count": 15,
   "id": "aa456781",
   "metadata": {},
   "outputs": [
    {
     "name": "stdout",
     "output_type": "stream",
     "text": [
      "[]\n"
     ]
    }
   ],
   "source": [
    "my_list = [2,1,5,4,3]\n",
    "my_list.clear()\n",
    "print(my_list)\n",
    "# Print: []"
   ]
  },
  {
   "cell_type": "markdown",
   "id": "f22dd1e4",
   "metadata": {},
   "source": [
    "DICCIONARIOS\n",
    "\n",
    "Un diccionario es una estructura de datos que almacena la información en forma de pares con una clave única y un valor asociado. Los diccionarios se pueden declaran con (llaves) {} o con la función dict()."
   ]
  },
  {
   "cell_type": "code",
   "execution_count": 16,
   "id": "ccdad204",
   "metadata": {},
   "outputs": [],
   "source": [
    "# Diccionario vacío inicializado con dict()\n",
    "my_dict = dict()\n",
    "# Diccionario vacío inicializado con llaves\n",
    "my_dict = {}\n",
    "# Diccionario inicializado con valores\n",
    "my_dict = {'status': True, 'msg': 'ok'}"
   ]
  },
  {
   "cell_type": "markdown",
   "id": "a965d864",
   "metadata": {},
   "source": [
    "Para acceder al valor de un elemento, escribiremos el nombre de la variable seguido de apertura de corchetes, el nombre de la clave y cierre de corchetes:"
   ]
  },
  {
   "cell_type": "code",
   "execution_count": 17,
   "id": "01640d50",
   "metadata": {},
   "outputs": [
    {
     "name": "stdout",
     "output_type": "stream",
     "text": [
      "World\n"
     ]
    }
   ],
   "source": [
    "my_dict = {\n",
    "    'hello': 'World',\n",
    "    'msg': 'ok'\n",
    "}\n",
    "\n",
    "print(my_dict['hello'])\n",
    "# Print: World"
   ]
  },
  {
   "cell_type": "markdown",
   "id": "011659a7",
   "metadata": {},
   "source": [
    "Cuando iteramos en diccionarios podemos hacerlo a través de las claves, valores o ítems (pares clave-valor). Para ello podremos usar el bucle for y para iterar sobre las claves, el nombre del diccionario y el método keys(), en el caso de los valores utilizaremos el método values() y para iterar sobre la clave y el valor, usaremos el método items()."
   ]
  },
  {
   "cell_type": "code",
   "execution_count": 18,
   "id": "9315a521",
   "metadata": {},
   "outputs": [
    {
     "name": "stdout",
     "output_type": "stream",
     "text": [
      "hello\n",
      "msg\n",
      "World\n",
      "ok\n",
      "key hello, value World\n",
      "key msg, value ok\n"
     ]
    }
   ],
   "source": [
    "my_dict = {\n",
    "    'hello': 'World',\n",
    "    'msg': 'ok'\n",
    "}\n",
    "\n",
    "# Iterar en llaves\n",
    "for key in my_dict.keys():\n",
    "    print(key)\n",
    "\n",
    "# Iterar en valores\n",
    "for value in my_dict.values():\n",
    "    print(value)\n",
    "\n",
    "# Iterar en ítems\n",
    "for key, value in my_dict.items():\n",
    "    print(f'key {key}, value {value}')"
   ]
  },
  {
   "cell_type": "markdown",
   "id": "b67e7273",
   "metadata": {},
   "source": [
    "Operaciones disponibles para la manipulación de diccionarios\n",
    "\n",
    "Si queremos vaciar un diccionario, al igual que en las listas, podremos usar el método clear()."
   ]
  },
  {
   "cell_type": "code",
   "execution_count": 19,
   "id": "f43ddc40",
   "metadata": {},
   "outputs": [
    {
     "name": "stdout",
     "output_type": "stream",
     "text": [
      "{}\n"
     ]
    }
   ],
   "source": [
    "my_dict.clear()\n",
    "print(my_dict)\n",
    "# Print: {}"
   ]
  },
  {
   "cell_type": "markdown",
   "id": "b4fae809",
   "metadata": {},
   "source": [
    "Otra forma de obtener el valor de una clave de un diccionario es utilizando el método get(). Dentro de este método podremos pasar la clave que estamos buscando y opcionalmente un valor por defecto si no encuentra ese valor. En el caso de no encontrarlo y no poner ningún valor por defecto, devolverá None."
   ]
  },
  {
   "cell_type": "code",
   "execution_count": 20,
   "id": "d553c3b5",
   "metadata": {},
   "outputs": [
    {
     "name": "stdout",
     "output_type": "stream",
     "text": [
      "None\n",
      "None\n",
      "default\n"
     ]
    }
   ],
   "source": [
    "print(my_dict.get('hello'))\n",
    "# Print: World\n",
    "print(my_dict.get('new_key'))\n",
    "# Print: None\n",
    "print(my_dict.get('new_key', 'default'))\n",
    "# Print: default"
   ]
  },
  {
   "cell_type": "markdown",
   "id": "ba83fc29",
   "metadata": {},
   "source": [
    "Si queremos obtener un listado con todas las claves de un diccionario, podemos convertirlo en una lista de la siguiente forma:"
   ]
  },
  {
   "cell_type": "code",
   "execution_count": 21,
   "id": "7b4df3fd",
   "metadata": {},
   "outputs": [
    {
     "name": "stdout",
     "output_type": "stream",
     "text": [
      "['hello', 'msg']\n"
     ]
    }
   ],
   "source": [
    "my_dict = {\n",
    "    'hello': 'World',\n",
    "    'msg': 'ok'\n",
    "}\n",
    "\n",
    "print(list(my_dict))\n",
    "# Print: ['hello', 'msg']"
   ]
  },
  {
   "cell_type": "markdown",
   "id": "c2403ee7",
   "metadata": {},
   "source": [
    "Para obtener el número de elementos de un diccionario usando la función len."
   ]
  },
  {
   "cell_type": "code",
   "execution_count": 22,
   "id": "b2d0ea10",
   "metadata": {},
   "outputs": [
    {
     "name": "stdout",
     "output_type": "stream",
     "text": [
      "2\n"
     ]
    }
   ],
   "source": [
    "my_dict = {\n",
    "    'hello': 'World',\n",
    "    'msg': 'ok'\n",
    "}\n",
    "\n",
    "print(len(my_dict))\n",
    "# Print: 2"
   ]
  },
  {
   "cell_type": "markdown",
   "id": "1bfd9685",
   "metadata": {},
   "source": [
    "Para comprobar si existe una clave o no dentro de un diccionario, podemos usar el operador in, esto nos devolverá True en caso de encontrarlo y False si no lo encuentra, también podemos utilizar el operador not in para verificar que una clave no esté en un diccionario:"
   ]
  },
  {
   "cell_type": "code",
   "execution_count": 23,
   "id": "9942d22f",
   "metadata": {},
   "outputs": [
    {
     "name": "stdout",
     "output_type": "stream",
     "text": [
      "True\n",
      "False\n"
     ]
    }
   ],
   "source": [
    "my_dict = {\n",
    "    'hello': 'World',\n",
    "    'msg': 'ok'\n",
    "}\n",
    "\n",
    "result = 'hello' in my_dict\n",
    "print(result)\n",
    "# Print: True\n",
    "result2 = 'msg' not in my_dict\n",
    "print(result2)\n",
    "# Print: False"
   ]
  },
  {
   "cell_type": "markdown",
   "id": "6ec3f607",
   "metadata": {},
   "source": [
    "TUPLAS\n",
    "\n",
    "Son similares a las listas, pero lo que las diferencia es que estas son inmutables, esto quiere decir que no puede modificarse de ninguna forma después de su creación.\n",
    "\n",
    "Se pueden definir de estas dos formas:"
   ]
  },
  {
   "cell_type": "code",
   "execution_count": 25,
   "id": "8ee1a387",
   "metadata": {},
   "outputs": [],
   "source": [
    "my_tuple = (1,2,3,4)\n",
    "\n",
    "# También de esta forma\n",
    "\n",
    "my_tuple = tuple((1, 2, 3, 4))"
   ]
  },
  {
   "cell_type": "markdown",
   "id": "b4d12372",
   "metadata": {},
   "source": [
    "Para acceder a un valor dada una posición lo haremos igual que con las listas, escribiendo el nombre de la tupla seguido de apertura de corchetes, posición que buscamos y cierre de corchetes:"
   ]
  },
  {
   "cell_type": "code",
   "execution_count": 26,
   "id": "a30f0fad",
   "metadata": {},
   "outputs": [
    {
     "name": "stdout",
     "output_type": "stream",
     "text": [
      "b\n"
     ]
    }
   ],
   "source": [
    "my_tuple = tuple(('x', 'b', 'm', 'r'))\n",
    "print(my_tuple[1])\n",
    "# Print: b"
   ]
  },
  {
   "cell_type": "markdown",
   "id": "4765b98f",
   "metadata": {},
   "source": [
    "SETS\n",
    "\n",
    "Los sets son muy similares a las listas, pero estas no permiten elementos repetidos e incluso si lo declaras con valores repetidos, solo se guardará un valor único.\n",
    "\n",
    "Para declarar un set, escribiremos set, abriremos paréntesis y dentro introduciremos una lista, después cerramos paréntesis y listo:"
   ]
  },
  {
   "cell_type": "code",
   "execution_count": 27,
   "id": "9c761aef",
   "metadata": {},
   "outputs": [],
   "source": [
    "my_set = set([1, 2, 3])"
   ]
  },
  {
   "cell_type": "markdown",
   "id": "7ba3df39",
   "metadata": {},
   "source": [
    "Operaciones disponibles para la manipulación de sets\n",
    "\n",
    "Si queremos añadir un nuevo elemento a un set ya existente, utilizaremos el método add() y pasaremos por parámetro el valor a añadir:"
   ]
  },
  {
   "cell_type": "code",
   "execution_count": 28,
   "id": "e9ed865c",
   "metadata": {},
   "outputs": [
    {
     "name": "stdout",
     "output_type": "stream",
     "text": [
      "{2, 5, 6, 8, 11}\n"
     ]
    }
   ],
   "source": [
    "my_set = set([2, 6, 8, 5])\n",
    "my_set.add(11)\n",
    "print(my_set)\n",
    "# Print: {2, 5, 6, 8, 11}"
   ]
  },
  {
   "cell_type": "markdown",
   "id": "b6659563",
   "metadata": {},
   "source": [
    "En el caso de querer eliminar un elemento, utilizaremos el método remove() y pasaremos por parámetro a eliminar, si este existe lo eliminará, si no, lanzará una excepción."
   ]
  },
  {
   "cell_type": "code",
   "execution_count": 30,
   "id": "a1f269eb",
   "metadata": {},
   "outputs": [
    {
     "name": "stdout",
     "output_type": "stream",
     "text": [
      "{2, 5, 6}\n"
     ]
    }
   ],
   "source": [
    "my_set = set([2, 6, 8, 5])\n",
    "my_set.remove(8)\n",
    "print(my_set)\n",
    "# Print: {2, 5, 6}"
   ]
  },
  {
   "cell_type": "markdown",
   "id": "c4440b73",
   "metadata": {},
   "source": [
    "También podemos usar el método discard() que es igual a remove() pero en este caso no lanzará una excepción si no encuentra el valor."
   ]
  },
  {
   "cell_type": "code",
   "execution_count": 31,
   "id": "dfbe34fa",
   "metadata": {},
   "outputs": [
    {
     "name": "stdout",
     "output_type": "stream",
     "text": [
      "{8, 2, 5, 6}\n"
     ]
    }
   ],
   "source": [
    "my_set = set([2, 6, 8, 5])\n",
    "my_set.discard(1)\n",
    "print(my_set)\n",
    "# Print: {8, 2, 5, 6}"
   ]
  },
  {
   "cell_type": "markdown",
   "id": "ab88bacb",
   "metadata": {},
   "source": [
    "Para vaciar un set podemos utilizar el método clear().\n",
    "\n",
    "Si queremos fusionar dos sets podemos utilizar el método union()."
   ]
  },
  {
   "cell_type": "code",
   "execution_count": 35,
   "id": "dc51fcd4",
   "metadata": {},
   "outputs": [
    {
     "name": "stdout",
     "output_type": "stream",
     "text": [
      "{1, 2, 3, 4, 5}\n"
     ]
    }
   ],
   "source": [
    "my_set_1 = set([1, 2, 3])\n",
    "my_set_2 = set([3, 4, 5])\n",
    "my_new_set = my_set_1.union(my_set_2)\n",
    "\n",
    "print(my_new_set)\n",
    "# Print: {1, 2, 3, 4, 5}"
   ]
  },
  {
   "cell_type": "markdown",
   "id": "c712620b",
   "metadata": {},
   "source": [
    "Para averiguar la coincidencia entre dos sets, usaremos el método intersection(), esto nos devolverá un set con los valores que comparten ambos sets."
   ]
  },
  {
   "cell_type": "code",
   "execution_count": 37,
   "id": "0638f452",
   "metadata": {},
   "outputs": [
    {
     "name": "stdout",
     "output_type": "stream",
     "text": [
      "{3}\n"
     ]
    }
   ],
   "source": [
    "my_set_1 = set([1, 2, 3])\n",
    "my_set_2 = set([3, 4, 5])\n",
    "my_new_set = my_set_1.intersection(my_set_2)\n",
    "\n",
    "print(my_new_set)\n",
    "# Print: {3}"
   ]
  },
  {
   "cell_type": "markdown",
   "id": "f447fc11",
   "metadata": {},
   "source": [
    "Si queremos comparar que valores de un set no están en un segundo set, usaremos el método difference()."
   ]
  },
  {
   "cell_type": "code",
   "execution_count": 38,
   "id": "134ba0e0",
   "metadata": {},
   "outputs": [
    {
     "name": "stdout",
     "output_type": "stream",
     "text": [
      "{1, 2}\n"
     ]
    }
   ],
   "source": [
    "my_set_1 = set([1, 2, 3])\n",
    "my_set_2 = set([3, 4, 5])\n",
    "my_new_set = my_set_1.difference(my_set_2)\n",
    "\n",
    "print(my_new_set)\n",
    "# Print: {1, 2}"
   ]
  }
 ],
 "metadata": {
  "kernelspec": {
   "display_name": "Python 3",
   "language": "python",
   "name": "python3"
  },
  "language_info": {
   "codemirror_mode": {
    "name": "ipython",
    "version": 3
   },
   "file_extension": ".py",
   "mimetype": "text/x-python",
   "name": "python",
   "nbconvert_exporter": "python",
   "pygments_lexer": "ipython3",
   "version": "3.8.8"
  },
  "varInspector": {
   "cols": {
    "lenName": 16,
    "lenType": 16,
    "lenVar": 40
   },
   "kernels_config": {
    "python": {
     "delete_cmd_postfix": "",
     "delete_cmd_prefix": "del ",
     "library": "var_list.py",
     "varRefreshCmd": "print(var_dic_list())"
    },
    "r": {
     "delete_cmd_postfix": ") ",
     "delete_cmd_prefix": "rm(",
     "library": "var_list.r",
     "varRefreshCmd": "cat(var_dic_list()) "
    }
   },
   "types_to_exclude": [
    "module",
    "function",
    "builtin_function_or_method",
    "instance",
    "_Feature"
   ],
   "window_display": false
  }
 },
 "nbformat": 4,
 "nbformat_minor": 5
}
